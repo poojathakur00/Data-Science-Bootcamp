{
  "nbformat": 4,
  "nbformat_minor": 0,
  "metadata": {
    "colab": {
      "provenance": []
    },
    "kernelspec": {
      "name": "python3",
      "display_name": "Python 3"
    },
    "language_info": {
      "name": "python"
    }
  },
  "cells": [
    {
      "cell_type": "markdown",
      "source": [
        "Ques 1"
      ],
      "metadata": {
        "id": "lqrSJFNSto6K"
      }
    },
    {
      "cell_type": "code",
      "source": [
        "import random"
      ],
      "metadata": {
        "id": "OkENMPVVuELI"
      },
      "execution_count": 3,
      "outputs": []
    },
    {
      "cell_type": "code",
      "execution_count": 2,
      "metadata": {
        "id": "sKpfYPGRpI0m",
        "colab": {
          "base_uri": "https://localhost:8080/"
        },
        "outputId": "643b0ca0-300d-4f9d-bcd5-2d1e50b36d80"
      },
      "outputs": [
        {
          "output_type": "stream",
          "name": "stdout",
          "text": [
            "0\n",
            "1\n",
            "1\n",
            "2\n",
            "3\n",
            "5\n",
            "8\n",
            "13\n",
            "21\n",
            "34\n"
          ]
        }
      ],
      "source": [
        "i=0\n",
        "j=1\n",
        "\n",
        "for p in range(10):\n",
        "    print(i)\n",
        "    j=j+i\n",
        "    i=j-i"
      ]
    },
    {
      "cell_type": "markdown",
      "source": [
        "Ques2"
      ],
      "metadata": {
        "id": "srI_aZCouSby"
      }
    },
    {
      "cell_type": "code",
      "source": [
        "l = random.sample(range(1, 100), 10)\n",
        "print(l)\n",
        "print(l[1::2])"
      ],
      "metadata": {
        "colab": {
          "base_uri": "https://localhost:8080/"
        },
        "id": "m50g_BGYtwU_",
        "outputId": "3a3b6407-1b5c-4173-db56-c74b698a6b52"
      },
      "execution_count": 7,
      "outputs": [
        {
          "output_type": "stream",
          "name": "stdout",
          "text": [
            "[18, 49, 86, 31, 61, 73, 33, 65, 15, 5]\n",
            "[49, 31, 73, 65, 5]\n"
          ]
        }
      ]
    },
    {
      "cell_type": "markdown",
      "source": [
        "Ques3\n"
      ],
      "metadata": {
        "id": "0ERsVNyNtwkw"
      }
    },
    {
      "cell_type": "code",
      "source": [
        "s = \"\"\"\n",
        "\n",
        "I have provided this text to provide tips on creating interesting paragraphs.\n",
        "\n",
        "First, start with a clear topic sentence that introduces the main idea.\n",
        "\n",
        "Then, support the topic sentence with specific details, examples, and evidence.\n",
        "\n",
        "Vary the sentence length and structure to keep the reader engaged.\n",
        "\n",
        "Finally, end with a strong concluding sentence that summarizes the main points.\n",
        "\n",
        "Remember, practice makes perfect!\n",
        "\n",
        "\"\"\"\n",
        "\n",
        "words = s.split()  # Convert to lowercase and split into words\n",
        "unique = set(words)  # Use a set to store unique words\n",
        "print(len(unique))\n"
      ],
      "metadata": {
        "colab": {
          "base_uri": "https://localhost:8080/"
        },
        "id": "0DX-Lh1Guki0",
        "outputId": "85fd7a00-4f46-4380-e91c-d1802695e7f6"
      },
      "execution_count": 9,
      "outputs": [
        {
          "output_type": "stream",
          "name": "stdout",
          "text": [
            "47\n"
          ]
        }
      ]
    },
    {
      "cell_type": "markdown",
      "source": [
        "Ques4\n"
      ],
      "metadata": {
        "id": "9kyV2fQtwxCi"
      }
    },
    {
      "cell_type": "code",
      "source": [
        "def count_vowels(word):\n",
        "    vowels = \"aeiouAEIOU\"\n",
        "    return sum(1 for char in word if char in vowels)\n",
        "\n",
        "\n",
        "print(count_vowels(\"Hello World\"))"
      ],
      "metadata": {
        "colab": {
          "base_uri": "https://localhost:8080/"
        },
        "id": "7lNMMYHRwwti",
        "outputId": "0e19bc46-cd92-4308-ec2b-974a840308bc"
      },
      "execution_count": 2,
      "outputs": [
        {
          "output_type": "stream",
          "name": "stdout",
          "text": [
            "3\n"
          ]
        }
      ]
    },
    {
      "cell_type": "markdown",
      "source": [
        "Ques5\n"
      ],
      "metadata": {
        "id": "oSBsvHyvLHal"
      }
    },
    {
      "cell_type": "code",
      "source": [
        "animals = ['tiger', 'elephant', 'monkey', 'zebra', 'panther']\n",
        "\n",
        "for animal in animals:\n",
        "    print(animal.upper())\n"
      ],
      "metadata": {
        "colab": {
          "base_uri": "https://localhost:8080/"
        },
        "id": "xumNb-iWLI9A",
        "outputId": "508be5b5-fc8d-42ff-81e1-ad4d506daa86"
      },
      "execution_count": 3,
      "outputs": [
        {
          "output_type": "stream",
          "name": "stdout",
          "text": [
            "TIGER\n",
            "ELEPHANT\n",
            "MONKEY\n",
            "ZEBRA\n",
            "PANTHER\n"
          ]
        }
      ]
    },
    {
      "cell_type": "markdown",
      "source": [
        "Ques 6"
      ],
      "metadata": {
        "id": "RQU9MztQLOwY"
      }
    },
    {
      "cell_type": "code",
      "source": [
        "for i in range(1, 21):  # Iterate from 1 to 20\n",
        "    if i % 2 == 0:\n",
        "        print(f\"{i} is EVEN\")\n",
        "    else:\n",
        "        print(f\"{i} is ODD\")"
      ],
      "metadata": {
        "colab": {
          "base_uri": "https://localhost:8080/"
        },
        "id": "0KDFoCgcLMeq",
        "outputId": "9dd85bb1-7901-4f8a-a3ba-fbdb7594673b"
      },
      "execution_count": 4,
      "outputs": [
        {
          "output_type": "stream",
          "name": "stdout",
          "text": [
            "1 is ODD\n",
            "2 is EVEN\n",
            "3 is ODD\n",
            "4 is EVEN\n",
            "5 is ODD\n",
            "6 is EVEN\n",
            "7 is ODD\n",
            "8 is EVEN\n",
            "9 is ODD\n",
            "10 is EVEN\n",
            "11 is ODD\n",
            "12 is EVEN\n",
            "13 is ODD\n",
            "14 is EVEN\n",
            "15 is ODD\n",
            "16 is EVEN\n",
            "17 is ODD\n",
            "18 is EVEN\n",
            "19 is ODD\n",
            "20 is EVEN\n"
          ]
        }
      ]
    },
    {
      "cell_type": "markdown",
      "source": [
        "Ques 7\n"
      ],
      "metadata": {
        "id": "e3Pb1Kf7LgEu"
      }
    },
    {
      "cell_type": "code",
      "source": [
        "def sum(a, b):\n",
        "    return a + b\n",
        "\n",
        "a = int(input(\"Enter one number\"))\n",
        "b = int(input(\"Enter second number\"))\n",
        "print(sum(a,b))"
      ],
      "metadata": {
        "colab": {
          "base_uri": "https://localhost:8080/"
        },
        "id": "lK4cnQTKLj0j",
        "outputId": "a041daf6-448e-46c4-ce59-8a923c5e6b69"
      },
      "execution_count": 5,
      "outputs": [
        {
          "output_type": "stream",
          "name": "stdout",
          "text": [
            "Enter one number5\n",
            "Enter second number9\n",
            "14\n"
          ]
        }
      ]
    }
  ]
}