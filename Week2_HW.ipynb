{
  "nbformat": 4,
  "nbformat_minor": 0,
  "metadata": {
    "colab": {
      "provenance": []
    },
    "kernelspec": {
      "name": "python3",
      "display_name": "Python 3"
    },
    "language_info": {
      "name": "python"
    }
  },
  "cells": [
    {
      "cell_type": "code",
      "execution_count": 2,
      "metadata": {
        "id": "-AF47JchXUAG"
      },
      "outputs": [],
      "source": [
        "import numpy as np\n",
        "import matplotlib.pyplot as plt\n",
        "import pandas as pd\n",
        "import random\n",
        "url = 'https://archive.ics.uci.edu/ml/machine-learning-databases/iris/iris.data'\n",
        "\n",
        "iris_2d = np.genfromtxt(url, delimiter=',', dtype='float', usecols=[0,1,2,3])"
      ]
    },
    {
      "cell_type": "markdown",
      "source": [
        "Question1"
      ],
      "metadata": {
        "id": "sdZlO4rCYRTu"
      }
    },
    {
      "cell_type": "code",
      "source": [
        "A = np.array([[5, 3, 2], [4, 7, 2]])\n",
        "B = np.array([[2, 1, 7], [6, 6, 5]])\n",
        "\n",
        "\n",
        "print(A)\n",
        "print(B)\n",
        "vertical = np.vstack((A, B))\n",
        "\n",
        "horizontal = np.hstack((A, B))\n",
        "\n",
        "print(\"Vertically Stacked Array:\\n\", vertical)\n",
        "print(\"\\nHorizontally Stacked Array:\\n\", horizontal)"
      ],
      "metadata": {
        "colab": {
          "base_uri": "https://localhost:8080/"
        },
        "id": "mQ2qhe9fXfcc",
        "outputId": "6e929a12-a50f-49f9-f3f0-bc73f1cc3bef"
      },
      "execution_count": 3,
      "outputs": [
        {
          "output_type": "stream",
          "name": "stdout",
          "text": [
            "[[5 3 2]\n",
            " [4 7 2]]\n",
            "[[2 1 7]\n",
            " [6 6 5]]\n",
            "Vertically Stacked Array:\n",
            " [[5 3 2]\n",
            " [4 7 2]\n",
            " [2 1 7]\n",
            " [6 6 5]]\n",
            "\n",
            "Horizontally Stacked Array:\n",
            " [[5 3 2 2 1 7]\n",
            " [4 7 2 6 6 5]]\n"
          ]
        }
      ]
    },
    {
      "cell_type": "markdown",
      "source": [
        "Question2\n"
      ],
      "metadata": {
        "id": "8drd8HeaYSwQ"
      }
    },
    {
      "cell_type": "code",
      "source": [
        "common= np.intersect1d(A, B)\n",
        "\n",
        "# Print result\n",
        "print(\"Common Elements of A and B are :\", common)"
      ],
      "metadata": {
        "colab": {
          "base_uri": "https://localhost:8080/"
        },
        "id": "TO1TMkrDYUay",
        "outputId": "895d27f6-9f42-4d4e-f5d1-4f0360d10f30"
      },
      "execution_count": 4,
      "outputs": [
        {
          "output_type": "stream",
          "name": "stdout",
          "text": [
            "Common Elements of A and B are : [2 5 7]\n"
          ]
        }
      ]
    },
    {
      "cell_type": "markdown",
      "source": [
        "Question 3\n"
      ],
      "metadata": {
        "id": "17vVZlspYoF-"
      }
    },
    {
      "cell_type": "code",
      "source": [
        "print(\"Numbers in the range of 5 to 10 in Array A:\", A[(A >= 5) & (A <= 10)])\n",
        "#print(\"Numbers in the range of 5 to 10 in Array B:\", B[(B >= 5) & (B <= 10)])"
      ],
      "metadata": {
        "colab": {
          "base_uri": "https://localhost:8080/"
        },
        "id": "VtFgJhkhYqgp",
        "outputId": "86979496-0978-4db0-c385-cd37a5f5f7f6"
      },
      "execution_count": 5,
      "outputs": [
        {
          "output_type": "stream",
          "name": "stdout",
          "text": [
            "Numbers in the range of 5 to 10 in Array A: [5 7]\n"
          ]
        }
      ]
    },
    {
      "cell_type": "markdown",
      "source": [
        "Question 4\n"
      ],
      "metadata": {
        "id": "67VWlZ4PaEiS"
      }
    },
    {
      "cell_type": "code",
      "source": [
        "ans = iris_2d[(iris_2d[:, 2] > 1.5) & (iris_2d[:, 0] < 5.0)]\n",
        "\n",
        "print(ans)"
      ],
      "metadata": {
        "colab": {
          "base_uri": "https://localhost:8080/"
        },
        "id": "icM1SCTWaF2s",
        "outputId": "f14311cb-3512-4a4d-d1f4-947328d530a0"
      },
      "execution_count": 6,
      "outputs": [
        {
          "output_type": "stream",
          "name": "stdout",
          "text": [
            "[[4.8 3.4 1.6 0.2]\n",
            " [4.8 3.4 1.9 0.2]\n",
            " [4.7 3.2 1.6 0.2]\n",
            " [4.8 3.1 1.6 0.2]\n",
            " [4.9 2.4 3.3 1. ]\n",
            " [4.9 2.5 4.5 1.7]]\n"
          ]
        }
      ]
    },
    {
      "cell_type": "markdown",
      "source": [
        "Part 2 : Pandas\n",
        "Question 1\n",
        "\n"
      ],
      "metadata": {
        "id": "txnUJJ9icb_4"
      }
    },
    {
      "cell_type": "code",
      "source": [
        "url = 'https://raw.githubusercontent.com/selva86/datasets/master/Cars93_miss.csv'\n",
        "df = pd.read_csv(url)\n",
        "\n",
        "newdf = df.iloc[::20, :][['Manufacturer', 'Model', 'Type']]\n",
        "print(newdf)\n"
      ],
      "metadata": {
        "colab": {
          "base_uri": "https://localhost:8080/"
        },
        "id": "8U1Ut5LQcdfM",
        "outputId": "122f31d7-5e82-43ae-a907-f8dec5cd2601"
      },
      "execution_count": 7,
      "outputs": [
        {
          "output_type": "stream",
          "name": "stdout",
          "text": [
            "   Manufacturer    Model     Type\n",
            "0         Acura  Integra    Small\n",
            "20     Chrysler  LeBaron  Compact\n",
            "40        Honda  Prelude   Sporty\n",
            "60      Mercury   Cougar  Midsize\n",
            "80       Subaru   Loyale    Small\n"
          ]
        }
      ]
    },
    {
      "cell_type": "markdown",
      "source": [
        "Question 2\n",
        "\n"
      ],
      "metadata": {
        "id": "eemKWLrOc9wU"
      }
    },
    {
      "cell_type": "code",
      "source": [
        "df.loc[:, 'Min.Price'] = df['Min.Price'].fillna(df['Min.Price'].mean())\n",
        "df.loc[:, 'Max.Price'] = df['Max.Price'].fillna(df['Max.Price'].mean())\n",
        "\n",
        "print(df[['Min.Price', 'Max.Price']].head())"
      ],
      "metadata": {
        "colab": {
          "base_uri": "https://localhost:8080/"
        },
        "id": "MnktcLsMc_X1",
        "outputId": "2d8dbc0d-5c8c-459e-9717-513c0e22a20f"
      },
      "execution_count": 8,
      "outputs": [
        {
          "output_type": "stream",
          "name": "stdout",
          "text": [
            "   Min.Price  Max.Price\n",
            "0  12.900000  18.800000\n",
            "1  29.200000  38.700000\n",
            "2  25.900000  32.300000\n",
            "3  17.118605  44.600000\n",
            "4  17.118605  21.459091\n"
          ]
        }
      ]
    },
    {
      "cell_type": "markdown",
      "source": [
        "Question 3\n"
      ],
      "metadata": {
        "id": "NwvLBA3xnlvo"
      }
    },
    {
      "cell_type": "code",
      "source": [
        "df = pd.DataFrame(np.random.randint(10, 40, 60).reshape(-1, 4))\n",
        "\n",
        "rows = df[df.sum(axis=1) > 100]\n",
        "print(rows)"
      ],
      "metadata": {
        "colab": {
          "base_uri": "https://localhost:8080/"
        },
        "id": "gP7WASUpnnWE",
        "outputId": "e5cff488-2f79-421c-c125-498a8dcac361"
      },
      "execution_count": 9,
      "outputs": [
        {
          "output_type": "stream",
          "name": "stdout",
          "text": [
            "     0   1   2   3\n",
            "0   33  17  31  27\n",
            "4   33  26  33  22\n",
            "7   37  20  21  25\n",
            "8   25  36  14  29\n",
            "12  32  34  12  38\n",
            "13  27  34  34  14\n",
            "14  27  39  39  10\n"
          ]
        }
      ]
    }
  ]
}